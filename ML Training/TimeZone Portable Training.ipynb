{
 "cells": [
  {
   "cell_type": "markdown",
   "metadata": {},
   "source": [
    "## Import Machine Learning Packages"
   ]
  },
  {
   "cell_type": "code",
   "execution_count": 1,
   "metadata": {},
   "outputs": [],
   "source": [
    "# Importing the required packages \n",
    "import numpy as np \n",
    "import pandas as pd \n",
    "from sklearn.model_selection import train_test_split\n",
    "import sklearn.metrics as metrics\n",
    "import matplotlib.pyplot as plt\n"
   ]
  },
  {
   "cell_type": "markdown",
   "metadata": {},
   "source": [
    "## Read Data"
   ]
  },
  {
   "cell_type": "code",
   "execution_count": 2,
   "metadata": {},
   "outputs": [
    {
     "name": "stdout",
     "output_type": "stream",
     "text": [
      "<class 'pandas.core.frame.DataFrame'>\n",
      "RangeIndex: 3057 entries, 0 to 3056\n",
      "Data columns (total 11 columns):\n",
      " #   Column               Non-Null Count  Dtype\n",
      "---  ------               --------------  -----\n",
      " 0   Unnamed: 0           3057 non-null   int64\n",
      " 1   Number of Vehicles   3057 non-null   int64\n",
      " 2   1st Road Class       3057 non-null   int64\n",
      " 3   Road Surface         3057 non-null   int64\n",
      " 4   Lighting Conditions  3057 non-null   int64\n",
      " 5   Weather Conditions   3057 non-null   int64\n",
      " 6   Casualty Class       3057 non-null   int64\n",
      " 7   Casualty Severity    3057 non-null   int64\n",
      " 8   Sex of Casualty      3057 non-null   int64\n",
      " 9   Age of Casualty      3057 non-null   int64\n",
      " 10  Type of Vehicle      3057 non-null   int64\n",
      "dtypes: int64(11)\n",
      "memory usage: 262.8 KB\n"
     ]
    }
   ],
   "source": [
    "accidentData=pd.read_csv(\"../Data/trainingdata.csv\")\n",
    "accidentData.info()"
   ]
  },
  {
   "cell_type": "markdown",
   "metadata": {},
   "source": [
    "## Separate Features and Target Attributes"
   ]
  },
  {
   "cell_type": "code",
   "execution_count": 3,
   "metadata": {},
   "outputs": [],
   "source": [
    "#feature and target split\n",
    "feat    = ['1st Road Class','Road Surface','Lighting Conditions','Weather Conditions','Casualty Class','Type of Vehicle']\n",
    "features = accidentData[feat]\n",
    "target   = accidentData['Casualty Severity']"
   ]
  },
  {
   "cell_type": "markdown",
   "metadata": {},
   "source": [
    "## Split Training Data and Testing Data"
   ]
  },
  {
   "cell_type": "code",
   "execution_count": 4,
   "metadata": {},
   "outputs": [],
   "source": [
    "#Split training data(70%) and testing data (30%)\n",
    "X_train, X_test, y_train, y_test = train_test_split(features, target, test_size=0.3, random_state=1)"
   ]
  },
  {
   "cell_type": "markdown",
   "metadata": {},
   "source": [
    "## Gradient Boosting Learning"
   ]
  },
  {
   "cell_type": "code",
   "execution_count": 5,
   "metadata": {
    "scrolled": true
   },
   "outputs": [
    {
     "name": "stdout",
     "output_type": "stream",
     "text": [
      "Gradient Boosting Classifier\n",
      "Confusion Matrix [[825   4]\n",
      " [ 85   4]]\n",
      "Accuracy of the model is 0.9030501089324618\n",
      "precision of the model is 0.5\n",
      "Recall of the model is 0.0449438202247191\n",
      "ROC Curve\n"
     ]
    },
    {
     "data": {
      "image/png": "[encoded data removed]",
      "text/plain": [
       "<Figure size 640x480 with 1 Axes>"
      ]
     },
     "metadata": {},
     "output_type": "display_data"
    }
   ],
   "source": [
    "from sklearn.ensemble import GradientBoostingClassifier\n",
    "print(\"Gradient Boosting Classifier\")\n",
    "\n",
    "gb = GradientBoostingClassifier(learning_rate=0.1)\n",
    "gb.fit(X_train, y_train)\n",
    "y_pred_gb=gb.predict(X_test)\n",
    "\n",
    "print(\"Confusion Matrix\", metrics.confusion_matrix(y_test, y_pred_gb))\n",
    "print(\"Accuracy of the model is\", metrics.accuracy_score(y_test, y_pred_gb))\n",
    "print(\"precision of the model is\", metrics.precision_score(y_test, y_pred_gb))\n",
    "print(\"Recall of the model is\", metrics.recall_score(y_test, y_pred_gb))\n",
    "print(\"ROC Curve\")\n",
    "tpr, fpr, thres=metrics.roc_curve(y_test, y_pred_gb)\n",
    "\n",
    "plt.plot(tpr, fpr)\n",
    "plt.title(\"ROC curve\")\n",
    "plt.xlabel(\"True Positive Rate\")\n",
    "plt.ylabel(\"False Positive Rate\")\n",
    "plt.show()"
   ]
  },
  {
   "cell_type": "code",
   "execution_count": 9,
   "metadata": {},
   "outputs": [
    {
     "name": "stderr",
     "output_type": "stream",
     "text": [
      "C:\\Users\\ADMIN\\anaconda3\\Lib\\site-packages\\sklearn\\metrics\\_classification.py:1469: UndefinedMetricWarning: Precision and F-score are ill-defined and being set to 0.0 in labels with no predicted samples. Use `zero_division` parameter to control this behavior.\n",
      "  _warn_prf(average, modifier, msg_start, len(result))\n",
      "C:\\Users\\ADMIN\\anaconda3\\Lib\\site-packages\\sklearn\\metrics\\_classification.py:1469: UndefinedMetricWarning: Precision and F-score are ill-defined and being set to 0.0 in labels with no predicted samples. Use `zero_division` parameter to control this behavior.\n",
      "  _warn_prf(average, modifier, msg_start, len(result))\n",
      "C:\\Users\\ADMIN\\anaconda3\\Lib\\site-packages\\sklearn\\metrics\\_classification.py:1469: UndefinedMetricWarning: Precision and F-score are ill-defined and being set to 0.0 in labels with no predicted samples. Use `zero_division` parameter to control this behavior.\n",
      "  _warn_prf(average, modifier, msg_start, len(result))\n"
     ]
    },
    {
     "data": {
      "text/plain": [
       "{'0': {'precision': 0.9030501089324618,\n",
       "  'recall': 1.0,\n",
       "  'f1-score': 0.9490555237550086,\n",
       "  'support': 829.0},\n",
       " '1': {'precision': 0.0, 'recall': 0.0, 'f1-score': 0.0, 'support': 89.0},\n",
       " 'accuracy': 0.9030501089324618,\n",
       " 'macro avg': {'precision': 0.4515250544662309,\n",
       "  'recall': 0.5,\n",
       "  'f1-score': 0.4745277618775043,\n",
       "  'support': 918.0},\n",
       " 'weighted avg': {'precision': 0.8154994992429313,\n",
       "  'recall': 0.9030501089324618,\n",
       "  'f1-score': 0.8570446941099151,\n",
       "  'support': 918.0}}"
      ]
     },
     "execution_count": 9,
     "metadata": {},
     "output_type": "execute_result"
    }
   ],
   "source": [
    "from sklearn.linear_model import LogisticRegression\n",
    "from sklearn.svm import LinearSVC\n",
    "from sklearn.neighbors import KNeighborsClassifier\n",
    "from sklearn.metrics import accuracy_score, confusion_matrix, classification_report,ConfusionMatrixDisplay\n",
    "\n",
    "# Support Vector Classifier model\n",
    "svr_lin = LinearSVC(multi_class='ovr',C=1.0,loss='squared_hinge', dual=False)\n",
    "svr_lin.fit(X_train, y_train)\n",
    "\n",
    "# Predict using training and testing data and display the accuracy, f-1 score, precision for Positive and Negative Sentiment Classifiers \n",
    "svr_lin_predictions = svr_lin.predict(X_test)\n",
    "report = classification_report(y_test,svr_lin_predictions, output_dict=True)\n",
    "report"
   ]
  },
  {
   "cell_type": "code",
   "execution_count": 13,
   "metadata": {},
   "outputs": [
    {
     "data": {
      "text/plain": [
       "{'0': {'precision': 0.9092920353982301,\n",
       "  'recall': 0.991556091676719,\n",
       "  'f1-score': 0.9486439699942296,\n",
       "  'support': 829.0},\n",
       " '1': {'precision': 0.5,\n",
       "  'recall': 0.07865168539325842,\n",
       "  'f1-score': 0.13592233009708737,\n",
       "  'support': 89.0},\n",
       " 'accuracy': 0.9030501089324618,\n",
       " 'macro avg': {'precision': 0.7046460176991151,\n",
       "  'recall': 0.5351038885349887,\n",
       "  'f1-score': 0.5422831500456585,\n",
       "  'support': 918.0},\n",
       " 'weighted avg': {'precision': 0.8696112171515608,\n",
       "  'recall': 0.9030501089324618,\n",
       "  'f1-score': 0.8698506955379708,\n",
       "  'support': 918.0}}"
      ]
     },
     "execution_count": 13,
     "metadata": {},
     "output_type": "execute_result"
    }
   ],
   "source": [
    "from sklearn.ensemble import RandomForestClassifier\n",
    "random_forest = RandomForestClassifier()\n",
    "\n",
    "\n",
    "# Support Vector Classifier model\n",
    "random_forest.fit(X_train, y_train)\n",
    "\n",
    "# Predict using training and testing data and display the accuracy, f-1 score, precision for Positive and Negative Sentiment Classifiers \n",
    "random_forest_preds = random_forest.predict(X_test)\n",
    "report = classification_report(y_test,random_forest_preds, output_dict=True)\n",
    "report"
   ]
  },
  {
   "cell_type": "code",
   "execution_count": 15,
   "metadata": {},
   "outputs": [
    {
     "data": {
      "text/plain": [
       "{'0': {'precision': 0.9041850220264317,\n",
       "  'recall': 0.9903498190591074,\n",
       "  'f1-score': 0.9453080023028209,\n",
       "  'support': 829.0},\n",
       " '1': {'precision': 0.2,\n",
       "  'recall': 0.02247191011235955,\n",
       "  'f1-score': 0.04040404040404041,\n",
       "  'support': 89.0},\n",
       " 'accuracy': 0.8965141612200436,\n",
       " 'macro avg': {'precision': 0.5520925110132159,\n",
       "  'recall': 0.5064108645857335,\n",
       "  'f1-score': 0.49285602135343065,\n",
       "  'support': 918.0},\n",
       " 'weighted avg': {'precision': 0.8359143608495772,\n",
       "  'recall': 0.8965141612200436,\n",
       "  'f1-score': 0.8575776617701504,\n",
       "  'support': 918.0}}"
      ]
     },
     "execution_count": 15,
     "metadata": {},
     "output_type": "execute_result"
    }
   ],
   "source": [
    "knn = KNeighborsClassifier(n_neighbors=5,metric='minkowski',p=2)\n",
    "# Support Vector Classifier model\n",
    "knn.fit(X_train, y_train)\n",
    "\n",
    "# Predict using training and testing data and display the accuracy, f-1 score, precision for Positive and Negative Sentiment Classifiers \n",
    "knn_preds = knn.predict(X_test)\n",
    "report = classification_report(y_test,knn_preds, output_dict=True)\n",
    "report"
   ]
  },
  {
   "cell_type": "markdown",
   "metadata": {},
   "source": [
    "## Save the Model"
   ]
  },
  {
   "cell_type": "code",
   "execution_count": null,
   "metadata": {},
   "outputs": [],
   "source": [
    "import pickle\n",
    "\n",
    "#dump on picle\n",
    "pickle.dump(gb, open('../Model/accidentSeverityPredictor.pkl','wb'))"
   ]
  },
  {
   "cell_type": "code",
   "execution_count": 3,
   "metadata": {},
   "outputs": [
    {
     "data": {
      "image/png": "[encoded data removed]",
      "text/plain": [
       "<Figure size 640x480 with 1 Axes>"
      ]
     },
     "metadata": {},
     "output_type": "display_data"
    }
   ],
   "source": [
    "import matplotlib.pyplot as plt\n",
    "\n",
    "pf_dict = {\n",
    "    'classifiers': [\"GB\", \"SVM\", \"RF\", \"KNN\"],\n",
    "    'train_accuracies': [90.3, 90, 90, 89]\n",
    "}\n",
    "\n",
    "plt.plot(pf_dict['classifiers'], pf_dict['train_accuracies'], color='b', marker='o')\n",
    "plt.xlabel('Classifiers')\n",
    "plt.ylabel('Train Accuracies')\n",
    "plt.title('Travel Safe Zone Detection')\n",
    "plt.grid(True)\n",
    "plt.show()"
   ]
  },
  {
   "cell_type": "code",
   "execution_count": null,
   "metadata": {},
   "outputs": [],
   "source": []
  }
 ],
 "metadata": {
  "kernelspec": {
   "display_name": "Python 3 (ipykernel)",
   "language": "python",
   "name": "python3"
  },
  "language_info": {
   "codemirror_mode": {
    "name": "ipython",
    "version": 3
   },
   "file_extension": ".py",
   "mimetype": "text/x-python",
   "name": "python",
   "nbconvert_exporter": "python",
   "pygments_lexer": "ipython3",
   "version": "3.11.4"
  }
 },
 "nbformat": 4,
 "nbformat_minor": 2
}
